{
 "cells": [
  {
   "cell_type": "code",
   "execution_count": 1,
   "metadata": {},
   "outputs": [],
   "source": [
    "import sys"
   ]
  },
  {
   "cell_type": "code",
   "execution_count": 2,
   "metadata": {},
   "outputs": [
    {
     "data": {
      "text/plain": [
       "['/Users/neo/Desktop/Python',\n",
       " '/Users/neo/opt/anaconda3/lib/python38.zip',\n",
       " '/Users/neo/opt/anaconda3/lib/python3.8',\n",
       " '/Users/neo/opt/anaconda3/lib/python3.8/lib-dynload',\n",
       " '',\n",
       " '/Users/neo/.local/lib/python3.8/site-packages',\n",
       " '/Users/neo/opt/anaconda3/lib/python3.8/site-packages',\n",
       " '/Users/neo/opt/anaconda3/lib/python3.8/site-packages/aeosa',\n",
       " '/Users/neo/opt/anaconda3/lib/python3.8/site-packages/IPython/extensions',\n",
       " '/Users/neo/.ipython']"
      ]
     },
     "execution_count": 2,
     "metadata": {},
     "output_type": "execute_result"
    }
   ],
   "source": [
    "sys.path"
   ]
  },
  {
   "cell_type": "code",
   "execution_count": 3,
   "metadata": {},
   "outputs": [],
   "source": [
    "import test"
   ]
  },
  {
   "cell_type": "code",
   "execution_count": 4,
   "metadata": {},
   "outputs": [
    {
     "data": {
      "text/plain": [
       "['__builtins__',\n",
       " '__cached__',\n",
       " '__doc__',\n",
       " '__file__',\n",
       " '__loader__',\n",
       " '__name__',\n",
       " '__package__',\n",
       " '__spec__',\n",
       " '_b',\n",
       " '_y',\n",
       " 'a',\n",
       " 'x']"
      ]
     },
     "execution_count": 4,
     "metadata": {},
     "output_type": "execute_result"
    }
   ],
   "source": [
    "dir(test)"
   ]
  },
  {
   "cell_type": "code",
   "execution_count": 5,
   "metadata": {},
   "outputs": [
    {
     "data": {
      "text/plain": [
       "1"
      ]
     },
     "execution_count": 5,
     "metadata": {},
     "output_type": "execute_result"
    }
   ],
   "source": [
    "test.a"
   ]
  },
  {
   "cell_type": "code",
   "execution_count": 7,
   "metadata": {},
   "outputs": [
    {
     "name": "stdout",
     "output_type": "stream",
     "text": [
      "Variable          Type                          Data/Info\n",
      "---------------------------------------------------------\n",
      "NamespaceMagics   MetaHasTraits                 <class 'IPython.core.magi<...>mespace.NamespaceMagics'>\n",
      "autopep8          module                        <module 'autopep8' from '<...>te-packages/autopep8.py'>\n",
      "get_ipython       function                      <function get_ipython at 0x7fb63ceb75e0>\n",
      "getsizeof         builtin_function_or_method    <built-in function getsizeof>\n",
      "json              module                        <module 'json' from '/Use<...>hon3.8/json/__init__.py'>\n",
      "np                module                        <module 'numpy' from '/Us<...>kages/numpy/__init__.py'>\n",
      "sys               module                        <module 'sys' (built-in)>\n",
      "test              module                        <module 'test' from '/Use<...>/Desktop/Python/test.py'>\n",
      "var_dic_list      function                      <function var_dic_list at 0x7fb6431c4310>\n"
     ]
    }
   ],
   "source": [
    "# 모듈 sys, test 확인\n",
    "%whos"
   ]
  },
  {
   "cell_type": "code",
   "execution_count": 8,
   "metadata": {},
   "outputs": [],
   "source": [
    "from test import a"
   ]
  },
  {
   "cell_type": "code",
   "execution_count": 9,
   "metadata": {},
   "outputs": [
    {
     "name": "stdout",
     "output_type": "stream",
     "text": [
      "Variable          Type                          Data/Info\n",
      "---------------------------------------------------------\n",
      "NamespaceMagics   MetaHasTraits                 <class 'IPython.core.magi<...>mespace.NamespaceMagics'>\n",
      "a                 int                           1\n",
      "autopep8          module                        <module 'autopep8' from '<...>te-packages/autopep8.py'>\n",
      "get_ipython       function                      <function get_ipython at 0x7fb63ceb75e0>\n",
      "getsizeof         builtin_function_or_method    <built-in function getsizeof>\n",
      "json              module                        <module 'json' from '/Use<...>hon3.8/json/__init__.py'>\n",
      "np                module                        <module 'numpy' from '/Us<...>kages/numpy/__init__.py'>\n",
      "sys               module                        <module 'sys' (built-in)>\n",
      "test              module                        <module 'test' from '/Use<...>/Desktop/Python/test.py'>\n",
      "var_dic_list      function                      <function var_dic_list at 0x7fb6431c4310>\n"
     ]
    }
   ],
   "source": [
    "# 변수 a 확인\n",
    "%whos"
   ]
  },
  {
   "cell_type": "code",
   "execution_count": 10,
   "metadata": {},
   "outputs": [],
   "source": [
    "from test import *"
   ]
  },
  {
   "cell_type": "markdown",
   "metadata": {},
   "source": [
    "_들어간 것은 import 되지 않는다. private은 아니지만 import * 할 때는, private처럼 사용할 수 있다"
   ]
  },
  {
   "cell_type": "code",
   "execution_count": 11,
   "metadata": {
    "scrolled": true
   },
   "outputs": [
    {
     "name": "stdout",
     "output_type": "stream",
     "text": [
      "Variable          Type                          Data/Info\n",
      "---------------------------------------------------------\n",
      "NamespaceMagics   MetaHasTraits                 <class 'IPython.core.magi<...>mespace.NamespaceMagics'>\n",
      "a                 int                           1\n",
      "autopep8          module                        <module 'autopep8' from '<...>te-packages/autopep8.py'>\n",
      "get_ipython       function                      <function get_ipython at 0x7fb63ceb75e0>\n",
      "getsizeof         builtin_function_or_method    <built-in function getsizeof>\n",
      "json              module                        <module 'json' from '/Use<...>hon3.8/json/__init__.py'>\n",
      "np                module                        <module 'numpy' from '/Us<...>kages/numpy/__init__.py'>\n",
      "sys               module                        <module 'sys' (built-in)>\n",
      "test              module                        <module 'test' from '/Use<...>/Desktop/Python/test.py'>\n",
      "var_dic_list      function                      <function var_dic_list at 0x7fb6431c4310>\n",
      "x                 function                      <function x at 0x7fb642d1fdc0>\n"
     ]
    }
   ],
   "source": [
    "# a,x 확인\n",
    "%whos"
   ]
  },
  {
   "cell_type": "markdown",
   "metadata": {},
   "source": [
    "무조건 (__all__ = [문자열]) : 유저가 import 될 수 있는 식별자를 지정할 수 있다"
   ]
  },
  {
   "cell_type": "code",
   "execution_count": 14,
   "metadata": {
    "scrolled": true
   },
   "outputs": [
    {
     "ename": "TypeError",
     "evalue": "Item in test2.__all__ must be str, not int",
     "output_type": "error",
     "traceback": [
      "\u001b[0;31m---------------------------------------------------------------------------\u001b[0m",
      "\u001b[0;31mTypeError\u001b[0m                                 Traceback (most recent call last)",
      "\u001b[0;32m<ipython-input-14-67e869906d5b>\u001b[0m in \u001b[0;36m<module>\u001b[0;34m\u001b[0m\n\u001b[0;32m----> 1\u001b[0;31m \u001b[0;32mfrom\u001b[0m \u001b[0mtest2\u001b[0m \u001b[0;32mimport\u001b[0m \u001b[0;34m*\u001b[0m\u001b[0;34m\u001b[0m\u001b[0;34m\u001b[0m\u001b[0m\n\u001b[0m",
      "\u001b[0;31mTypeError\u001b[0m: Item in test2.__all__ must be str, not int"
     ]
    }
   ],
   "source": [
    "# Error by TypeError\n",
    "from test2 import *"
   ]
  },
  {
   "cell_type": "code",
   "execution_count": 19,
   "metadata": {},
   "outputs": [],
   "source": [
    "import test2"
   ]
  },
  {
   "cell_type": "code",
   "execution_count": 20,
   "metadata": {
    "scrolled": false
   },
   "outputs": [
    {
     "data": {
      "text/plain": [
       "['__all__',\n",
       " '__builtins__',\n",
       " '__cached__',\n",
       " '__doc__',\n",
       " '__file__',\n",
       " '__loader__',\n",
       " '__name__',\n",
       " '__package__',\n",
       " '__spec__',\n",
       " '_b',\n",
       " '_y',\n",
       " 'a',\n",
       " 'c',\n",
       " 'x']"
      ]
     },
     "execution_count": 20,
     "metadata": {},
     "output_type": "execute_result"
    }
   ],
   "source": [
    "dir(test2)"
   ]
  },
  {
   "cell_type": "code",
   "execution_count": 3,
   "metadata": {},
   "outputs": [],
   "source": [
    "# __all__ = ['a']\n",
    "# a라는 변수만 import됨\n",
    "from test3 import *"
   ]
  },
  {
   "cell_type": "code",
   "execution_count": 4,
   "metadata": {},
   "outputs": [
    {
     "name": "stdout",
     "output_type": "stream",
     "text": [
      "Variable          Type                          Data/Info\n",
      "---------------------------------------------------------\n",
      "NamespaceMagics   MetaHasTraits                 <class 'IPython.core.magi<...>mespace.NamespaceMagics'>\n",
      "a                 int                           1\n",
      "autopep8          module                        <module 'autopep8' from '<...>te-packages/autopep8.py'>\n",
      "get_ipython       function                      <function get_ipython at 0x7f84b55b85e0>\n",
      "getsizeof         builtin_function_or_method    <built-in function getsizeof>\n",
      "json              module                        <module 'json' from '/Use<...>hon3.8/json/__init__.py'>\n",
      "np                module                        <module 'numpy' from '/Us<...>kages/numpy/__init__.py'>\n",
      "var_dic_list      function                      <function var_dic_list at 0x7f84bb4ce310>\n"
     ]
    }
   ],
   "source": [
    "%whos"
   ]
  },
  {
   "cell_type": "code",
   "execution_count": null,
   "metadata": {},
   "outputs": [],
   "source": []
  }
 ],
 "metadata": {
  "kernelspec": {
   "display_name": "Python 3",
   "language": "python",
   "name": "python3"
  },
  "language_info": {
   "codemirror_mode": {
    "name": "ipython",
    "version": 3
   },
   "file_extension": ".py",
   "mimetype": "text/x-python",
   "name": "python",
   "nbconvert_exporter": "python",
   "pygments_lexer": "ipython3",
   "version": "3.8.3"
  },
  "toc": {
   "base_numbering": 1,
   "nav_menu": {},
   "number_sections": true,
   "sideBar": true,
   "skip_h1_title": false,
   "title_cell": "Table of Contents",
   "title_sidebar": "Contents",
   "toc_cell": false,
   "toc_position": {},
   "toc_section_display": true,
   "toc_window_display": false
  },
  "varInspector": {
   "cols": {
    "lenName": 16,
    "lenType": 16,
    "lenVar": 40
   },
   "kernels_config": {
    "python": {
     "delete_cmd_postfix": "",
     "delete_cmd_prefix": "del ",
     "library": "var_list.py",
     "varRefreshCmd": "print(var_dic_list())"
    },
    "r": {
     "delete_cmd_postfix": ") ",
     "delete_cmd_prefix": "rm(",
     "library": "var_list.r",
     "varRefreshCmd": "cat(var_dic_list()) "
    }
   },
   "types_to_exclude": [
    "module",
    "function",
    "builtin_function_or_method",
    "instance",
    "_Feature"
   ],
   "window_display": true
  }
 },
 "nbformat": 4,
 "nbformat_minor": 4
}
